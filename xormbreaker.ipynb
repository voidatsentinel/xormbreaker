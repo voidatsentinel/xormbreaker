{
 "cells": [
  {
   "cell_type": "markdown",
   "metadata": {},
   "source": [
    "# XOR key discovery from weakly implemented XOR encryption\n",
    "\n",
    "Author: void\n",
    "\n",
    "## Introduction\n",
    "\n",
    "This is a guide to decrypting samples containing weak XOR encryption in the wild. During this guide, we're using an old and famous Windows Executable. It will show up as a malicious HackTool, however the sample itself isn't malicious unless used maliciously (it is your responsibility not to be malicious with it).\n",
    "\n",
    "During this guide, we'll take a look at some of the telltale signs for discovering XOR encryption with a repeating key, and we'll take a look at cracking the sample for ourselves.\n",
    "\n",
    "## Sample `cannon.bin`"
   ]
  },
  {
   "cell_type": "code",
   "execution_count": null,
   "metadata": {
    "vscode": {
     "languageId": "shellscript"
    }
   },
   "outputs": [],
   "source": [
    "! echo \"Checking the file type\"\n",
    "! file samples/cannon.bin\n",
    "! echo \"\"\n",
    "! echo \"Checking the first few lines of the file\"\n",
    "! xxd samples/cannon.bin 2>/dev/null | head -n 5"
   ]
  },
  {
   "cell_type": "markdown",
   "metadata": {},
   "source": [
    "### Analysis (Part 1)\n",
    "\n",
    "Using the `file` command, we get `cannon.bin: data`. This isn't particularly useful information other than to know that our sample currently has no filetype, it's simply detected as \"data\".\n",
    "\n",
    "Taking a look at the file data itself using `xxd`, we can see that the data looks like garbage. But taking a closer look, it seems that there are some characters that repeat between lines in sequence.\n",
    "\n",
    "```js\n",
    "00000000: .... ..67 ..31 4426 ..4b 3372 .... 6943\n",
    "00000010: ..6c 3049 4562 554e ..31 7549 ..74 596b\n",
    "\n",
    "00000020: .... ..67 ..31 4426 ..4b 3372 .... 6943\n",
    "00000030: ..6c 3049 4562 554e ..31 7549 ..74 596b\n",
    "```\n",
    "\n",
    "From the very start of this sample, it seems that some of the characters in the sample are repeating every 32 characters. This is a good sign that we may be working with some weakly implemented encryption."
   ]
  },
  {
   "cell_type": "code",
   "execution_count": null,
   "metadata": {
    "vscode": {
     "languageId": "shellscript"
    }
   },
   "outputs": [],
   "source": [
    "! echo \"Checking the last few lines of the file\"\n",
    "! xxd samples/cannon.bin 2>/dev/null | tail -n 5"
   ]
  },
  {
   "cell_type": "markdown",
   "metadata": {},
   "source": [
    "### Analysis (Part 2)\n",
    "\n",
    "The last 2 lines of the file are exactly the same, a string of random characters.\n",
    "\n",
    "```js\n",
    "000213b0: 686c 3049 4562 554e 3731 7549 4374 596b\n",
    "000213c0: 3138 7267 4931 4426 4c4b 3372 7726 6943\n",
    "\n",
    "000213d0: 686c 3049 4562 554e 3731 7549 4374 596b\n",
    "000213e0: 3138 7267 4931 4426 4c4b 3372 7726 6943\n",
    "```\n",
    "\n",
    "Given this file is encrypted, having 2 long strings of characters which exactly match is a very useful sign.\n",
    "\n",
    "Since our key goes over 2 lines it's likely to be one of two options:\n",
    "- \"hl0IEbUN71uICtYk18rgI1D&LK3rw&iC\"\n",
    "- \"18rgI1D&LK3rw&iChl0IEbUN71uICtYk\"\n",
    "\n",
    "For this example, we will use `18rgI1D&LK3rw&iChl0IEbUN71uICtYk`."
   ]
  },
  {
   "cell_type": "code",
   "execution_count": null,
   "metadata": {},
   "outputs": [],
   "source": [
    "import os\n",
    "from pathlib import Path\n",
    "\n",
    "# XOR\n",
    "def xor(data: bytes, key: bytes):\n",
    "    return bytes([\n",
    "        c ^ key[i % len(key)]\n",
    "        for i, c in enumerate(data)\n",
    "    ])\n",
    "\n",
    "# Main\n",
    "key = \"18rgI1D&LK3rw&iChl0IEbUN71uICtYk\"\n",
    "in_file_path = Path(\"samples/cannon.bin\")\n",
    "with open(in_file_path, \"rb\") as f:\n",
    "    print(f\"Reading file [{in_file_path}]\")\n",
    "    data = f.read()\n",
    "# Decrypt\n",
    "result = xor(data, key.encode())\n",
    "# Save\n",
    "out_file_path = Path(\"out/cannon.exe\")\n",
    "os.makedirs(out_file_path.parent, exist_ok=True)\n",
    "with open(out_file_path, \"wb\") as f:\n",
    "    print(f\"Writing file [{out_file_path}]\")\n",
    "    f.write(result)\n",
    "print(\"Done!\")"
   ]
  },
  {
   "cell_type": "code",
   "execution_count": null,
   "metadata": {
    "vscode": {
     "languageId": "shellscript"
    }
   },
   "outputs": [],
   "source": [
    "# Check file\n",
    "! echo \"Checking the file type\"\n",
    "! file out/cannon.exe\n",
    "! echo \"\"\n",
    "! echo \"Checking the first few lines of the file\"\n",
    "! xxd out/cannon.exe 2>/dev/null | head -n 8\n",
    "! echo \"\"\n",
    "! echo \"Checking the SHA256 sum\"\n",
    "! shasum -a 256 out/cannon.exe | awk '{print $1}' "
   ]
  },
  {
   "cell_type": "markdown",
   "metadata": {},
   "source": [
    "### Analysis (Part 3)\n",
    "\n",
    "A windows executable! Just what we were looking for!\n",
    "Opening it up in Windows, gives us a small window for a program known as LOIC, or Low Orbit Ion Cannon.\n",
    "\n",
    "![cannon.exe](screenshots/cannon-exe.png)\n",
    "\n",
    "We can check whether the program is known by checking the SHA256 sum and putting that into VirusTotal.\n",
    "\n",
    "[VirusTotal for f60a52512773b52def9ba9ce8aad61144d2cf351f6bc04d1c5a13abef8f3b89b](https://www.virustotal.com/gui/file/f60a52512773b52def9ba9ce8aad61144d2cf351f6bc04d1c5a13abef8f3b89b/detection)\n",
    "\n",
    "Sure enough, there it is, Low Orbit Ion Cannon, or LOIC!\n",
    "\n",
    "![cannon.exe VirusTotal](screenshots/cannon-exe-vt.png)\n",
    "\n",
    "### Why is the key being dumped out?\n",
    "\n",
    "Windows Executables are null padded at the end, meaning all of the data at the end is just 0s. XORing a value with 0, gives the value itself, and likewise XORing a value with itself gives 0. Therefore, when XORing the key with null padding, the result is the key being repeated over and over again (provided the key is significantly smaller than the null padding space)."
   ]
  },
  {
   "cell_type": "markdown",
   "metadata": {},
   "source": [
    "## Sample `cannon-100.bin`\n",
    "\n",
    "### Upping the difficulty\n",
    "\n",
    "Ok, so, we did it, we've cracked a XOR encrypted version of LOIC, we got the key, we got the loot, hooray!\n",
    "\n",
    "Let's now look at a slightly more difficult example."
   ]
  },
  {
   "cell_type": "code",
   "execution_count": null,
   "metadata": {
    "vscode": {
     "languageId": "shellscript"
    }
   },
   "outputs": [],
   "source": [
    "! echo \"Checking the file type\"\n",
    "! file samples/cannon-100.bin\n",
    "! echo \"\"\n",
    "! echo \"Checking the first few lines of the file\"\n",
    "! xxd samples/cannon-100.bin 2>/dev/null | head -n 10\n",
    "! echo \"\"\n",
    "! echo \"Checking the last few lines of the file\"\n",
    "! xxd samples/cannon-100.bin 2>/dev/null | tail -n 10"
   ]
  },
  {
   "cell_type": "markdown",
   "metadata": {},
   "source": [
    "### Analysis (Part 1)\n",
    "\n",
    "Doing the same analysis on this sample as the previous sample, our `xxd` hexdump doesn't reveal an awful lot or give us any immediate clues. Instead of hexdump, let's just try using `cat`.\n"
   ]
  },
  {
   "cell_type": "code",
   "execution_count": null,
   "metadata": {
    "vscode": {
     "languageId": "shellscript"
    }
   },
   "outputs": [],
   "source": [
    "! cat samples/cannon-100.bin | tail -n 1 | fold -w 50"
   ]
  },
  {
   "cell_type": "markdown",
   "metadata": {},
   "source": [
    "### Analysis (Part 2)\n",
    "\n",
    "Looking very closely at the lines, we can now see there are some repeating sections, which is exciting.\n",
    "\n",
    "For example, the short string `q5GbPPnFeh` pops up twice in the text, once on the first line, and once on the third line.\n",
    "\n",
    "This is a great discovery, but manually figuring out what this key is could be quite tedious, so let's automate it!\n",
    "\n",
    "Our keys is a repeating string of characters, so we can check for adjacent strings of varying lengths to see if any of them match, and might be a key."
   ]
  },
  {
   "cell_type": "code",
   "execution_count": null,
   "metadata": {},
   "outputs": [],
   "source": [
    "# Key rotation\n",
    "def rotate_key(b: bytes):\n",
    "    return [b[i:] + b[:i] for i in range(len(b))]\n",
    "\n",
    "print(\"Key Rotation Demo\")\n",
    "print(\"\\n\".join(rotate_key(\"test abcde\")))\n",
    "print(\"\")\n",
    "\n",
    "# Read sample\n",
    "input_path = Path(\"samples/cannon-100.bin\")\n",
    "with open(input_path, \"rb\") as f:\n",
    "    print(f\"Reading file [{input_path}]\")\n",
    "    data = f.read()\n",
    "# Start with low key length\n",
    "print(\"Searching for keys\")\n",
    "keys = {}\n",
    "for key_length in range(2, 0xFF):\n",
    "    for i in range(len(data) - key_length):\n",
    "        # Adjacent chunks\n",
    "        chunk_a = data[i:i + key_length]\n",
    "        chunk_b = data[i + key_length:i + 2 * key_length]\n",
    "        if chunk_a == chunk_b:\n",
    "            # Check if key is new\n",
    "            key = chunk_a\n",
    "            if not key_length in keys:\n",
    "                keys[key_length] = []\n",
    "            current_keys = keys[key_length]\n",
    "            if any(_key in rotate_key(key) for _key in current_keys):\n",
    "                continue\n",
    "            # Save key\n",
    "            print(f\"{key_length} | {key}\")\n",
    "            current_keys.append(key)\n",
    "# Done\n",
    "print(\"Finished\")\n"
   ]
  },
  {
   "cell_type": "markdown",
   "metadata": {},
   "source": [
    "### Analysis (Part 3)\n",
    "\n",
    "So we have some keys!\n",
    "\n",
    "There are 3 short keys found, although these are less likely to be of value\n",
    "\n",
    "```js\n",
    "2 | b'h7'\n",
    "2 | b'\\x06\\x0f'\n",
    "2 | b'*&'\n",
    "```\n",
    "\n",
    "There were also 2 larger keys found, of size 99, and of size 198\n",
    "\n",
    "```js\n",
    "99 | b'gH6bg...Vh7b7'\n",
    "198 | b'dsWOd...gH6bgdsWOd...'\n",
    "```\n",
    "\n",
    "As you can see, the 198 key is twice the length of 99, and it repeats, so actually we're not interested in that key.\n",
    "For work in the field, one might test the larger key against the smaller key, to see if it is just a smaller key repeated.\n",
    "\n",
    "Next, with our new found key, we'll need to decrypt the file. Let's pull up our code from when we were decrypting `cannon.bin`.\n",
    "**Note the key may not (read: will not) work, so keep reading after you've done this**\n",
    "\n",
    "For this example, we'll try using the key `gH6bgdsWOd^OtUB7@&B44nL#1FOf5K!q5GbPPnFehMbFuTXu4H!vswP2ETGjA74z379yrUJzS@SUz*XgPUn8TJYDHmlzZ8Vh7b7`\n",
    "\n"
   ]
  },
  {
   "cell_type": "code",
   "execution_count": null,
   "metadata": {},
   "outputs": [],
   "source": [
    "# Main\n",
    "key = \"gH6bgdsWOd^OtUB7@&B44nL#1FOf5K!q5GbPPnFehMbFuTXu4H!vswP2ETGjA74z379yrUJzS@SUz*XgPUn8TJYDHmlzZ8Vh7b7\"\n",
    "in_file_path = Path(\"samples/cannon-100.bin\")\n",
    "with open(in_file_path, \"rb\") as f:\n",
    "    print(f\"Reading file [{in_file_path}]\")\n",
    "    data = f.read()\n",
    "# Decrypt\n",
    "result = xor(data, key.encode())\n",
    "# Save\n",
    "out_file_path = Path(\"out/cannon-100.exe\")\n",
    "with open(out_file_path, \"wb\") as f:\n",
    "    print(f\"Writing file [{out_file_path}]\")\n",
    "    f.write(result)\n",
    "print(\"Done!\")"
   ]
  },
  {
   "cell_type": "code",
   "execution_count": null,
   "metadata": {
    "vscode": {
     "languageId": "shellscript"
    }
   },
   "outputs": [],
   "source": [
    "# Check file\n",
    "! echo \"Checking the file type\"\n",
    "! file out/cannon-100.exe\n",
    "! echo \"\"\n",
    "! echo \"Checking the first few lines of the file\"\n",
    "! xxd out/cannon-100.exe 2>/dev/null | head -n 8\n",
    "! echo \"\"\n",
    "! echo \"Checking the SHA256 sum\"\n",
    "! shasum -a 256 out/cannon-100.exe | awk '{print $1}' "
   ]
  },
  {
   "cell_type": "markdown",
   "metadata": {},
   "source": [
    "### Analysis (Part 4)\n",
    "\n",
    "As we can see, this has not worked 😱\n",
    "This is because our key is offset, we've found the key, but we don't know where the key starts.\n",
    "That's not a problem though, because we can spin the key, and try to find where it starts!"
   ]
  },
  {
   "cell_type": "code",
   "execution_count": null,
   "metadata": {},
   "outputs": [],
   "source": [
    "# Main\n",
    "key = \"gH6bgdsWOd^OtUB7@&B44nL#1FOf5K!q5GbPPnFehMbFuTXu4H!vswP2ETGjA74z379yrUJzS@SUz*XgPUn8TJYDHmlzZ8Vh7b7\"\n",
    "in_file_path = Path(\"samples/cannon-100.bin\")\n",
    "with open(in_file_path, \"rb\") as f:\n",
    "    print(f\"Reading file [{in_file_path}]\")\n",
    "    data = f.read()\n",
    "# Decrypt\n",
    "result = None\n",
    "for _key in rotate_key(key.encode()):\n",
    "    decrypted = xor(data, _key)\n",
    "    # Check for crib\n",
    "    found = []\n",
    "    if b'\\x00'*8 in decrypted:\n",
    "        found.append(\"Found null padding\")\n",
    "    if decrypted.startswith(b'MZ'):\n",
    "        found.append(\"Found magic bytes\")\n",
    "    if 0 < len(found):\n",
    "        print(\"\\n\".join(found))\n",
    "        print(f\"Decrypted using key [{_key[:5]}...{_key[-5:]}]\")\n",
    "        result = decrypted\n",
    "        break\n",
    "# Save\n",
    "out_file_path = \"out/cannon-100.exe\"\n",
    "with open(out_file_path, \"wb\") as f:\n",
    "    print(f\"Writing file [{out_file_path}]\")\n",
    "    f.write(result)\n",
    "print(\"Done!\")"
   ]
  },
  {
   "cell_type": "code",
   "execution_count": null,
   "metadata": {
    "vscode": {
     "languageId": "shellscript"
    }
   },
   "outputs": [],
   "source": [
    "# Check file\n",
    "! echo \"Checking the file type\"\n",
    "! file out/cannon-100.exe\n",
    "! echo \"\"\n",
    "! echo \"Checking the first few lines of the file\"\n",
    "! xxd out/cannon-100.exe 2>/dev/null | head -n 8\n",
    "! echo \"\"\n",
    "! echo \"Checking the SHA256 sum\"\n",
    "! shasum -a 256 out/cannon-100.exe | awk '{print $1}' "
   ]
  },
  {
   "cell_type": "markdown",
   "metadata": {},
   "source": [
    "### Summary of 'cannon-100.exe`\n",
    "\n",
    "Ok super! Same hash as before, same file, so I'll skip the screenshots, and let you play with your newly decrypted executable! Try put it into virustotal, and you can learn about LOIC online.\n",
    "\n",
    "[Virus Total](https://www.virustotal.com/gui/home/upload)\n",
    "\n",
    "As for the tutorial, that's mostly it.\n",
    "\n",
    "**If you're here because you got bored and skipped to the end to see what's there, hi, welcome.**\n",
    "\n",
    "```md\n",
    "Summary:\n",
    "lots of files use null padding (\\x00), and when XORed, the null padding dumps out the key.\n",
    "By searching through the file for reapeating sections, you identify encrypted null padding, which dumps the raw key.\n",
    "Taking this repeating data, cycling it, and using it as a key for XOR, then checking against null padding or a known crib, the file can be decoded.\n",
    "```\n",
    "\n",
    "This tool is based off a script I wrote during an real world incident in 2022, and which has come in handy several times since then.\n",
    "Alongside this tutorial is a recreated version of the tool for public use.\n",
    "I hope you enjoyed, and thank you for reading!\n",
    "\n",
    "> Void"
   ]
  }
 ],
 "metadata": {
  "kernelspec": {
   "display_name": "3.11.9",
   "language": "python",
   "name": "python3"
  },
  "language_info": {
   "codemirror_mode": {
    "name": "ipython",
    "version": 3
   },
   "file_extension": ".py",
   "mimetype": "text/x-python",
   "name": "python",
   "nbconvert_exporter": "python",
   "pygments_lexer": "ipython3",
   "version": "3.11.9"
  }
 },
 "nbformat": 4,
 "nbformat_minor": 2
}
